{
 "cells": [
  {
   "cell_type": "markdown",
   "id": "19d52c3a",
   "metadata": {},
   "source": [
    "# Urban footprinter: a convolution-based approach to extract urban extents from LULC rasters\n",
    "\n",
    "Administrative boundaries are often defined manually case-by-case and based on subjective judgement. As a consequence, their widespread use in the context of urban and enviornmental studies can lead to misleading outcomes [1, 2].\n",
    "\n",
    "The aim of the urban footprinter package is to provide a repeatable convolution-based method to extract the extent of the urban regions.\n",
    "\n",
    "The study area for this example is a rasterized extract of [the official cadastral survey of the Canton of Zurich, Switzerland](https://are.zh.ch/internet/baudirektion/are/de/geoinformation/Themen/amtliche_vermessung.html)."
   ]
  },
  {
   "cell_type": "code",
   "execution_count": null,
   "id": "22461838",
   "metadata": {},
   "outputs": [],
   "source": [
    "import matplotlib.pyplot as plt\n",
    "import numpy as np\n",
    "import rasterio as rio\n",
    "from matplotlib import cm, colors\n",
    "from scipy import ndimage as ndi\n",
    "\n",
    "import urban_footprinter as ufp"
   ]
  },
  {
   "cell_type": "code",
   "execution_count": null,
   "id": "c25873d5",
   "metadata": {},
   "outputs": [],
   "source": [
    "raster_filepath = \"data/zurich.tif\"\n",
    "\n",
    "with rio.open(raster_filepath) as src:\n",
    "    lulc_arr = src.read(1)\n",
    "    res = src.res[0]  # only square pixels are supported\n",
    "    # custom colormap to plot the raster\n",
    "    # https://matplotlib.org/3.1.1/tutorials/colors/colormap-manipulation.html\n",
    "    num_classes = len(np.unique(lulc_arr))\n",
    "    terrain_r_cmap = cm.get_cmap(\"terrain_r\", num_classes)\n",
    "    color_values = terrain_r_cmap(np.linspace(0, 1, num_classes))\n",
    "    blue = np.array([0, 0.8, 1, 1])\n",
    "    color_values[13, :] = blue  # water\n",
    "    color_values[14, :] = blue  # water\n",
    "    cmap = colors.ListedColormap(color_values)\n",
    "    # np.where is used because nodata values of 255 would distort the colormap\n",
    "    plt.imshow(np.where(lulc_arr != 255, lulc_arr, -1), cmap=cmap)\n",
    "    plt.colorbar()"
   ]
  },
  {
   "cell_type": "markdown",
   "id": "f17c62ac",
   "metadata": {},
   "source": [
    "According to the land cover classification of the dataset, the codes 0 to 7 correspond to urban land cover classes. Therefore, the array of urban/non-urban pixels looks as follows:"
   ]
  },
  {
   "cell_type": "code",
   "execution_count": null,
   "id": "6c31f4be",
   "metadata": {},
   "outputs": [],
   "source": [
    "urban_lulc_classes = range(8)\n",
    "urban_lulc_arr = np.isin(lulc_arr, urban_lulc_classes).astype(np.uint32)\n",
    "plt.imshow(urban_lulc_arr)"
   ]
  },
  {
   "cell_type": "markdown",
   "id": "4e1a4bb0",
   "metadata": {},
   "source": [
    "## How the urban footprinter works\n",
    "\n",
    "The approach of the urban footprinter library is built upon the methods used in the \"Atlas of Urban Expansion\" by Angel et al. [3]. The main idea is that a pixel is considered part of the urban extent depending on the proportion of built-up pixels that surround it. Accordingly, the extraction of the urban extent can be customized by means of the following three parameters:\n",
    "\n",
    "* `kernel_radius`: radius (in meters) of the circular kernel used in the convolution\n",
    "* `urban_threshold`: proportion of neighboring (within the kernel) urban pixels after which a given pixel is considered urban\n",
    "* `buffer_dist` (optional): buffer distance (in meters) to add around the computed mask\n",
    "\n",
    "### Convolution with a circular kernel\n",
    "\n",
    "The main task consists in computing, for each pixel of the raster, the proportion of surrounding build-up pixels. This is done by means of a convolution with a circular kernel. In this example, the `kernel_radius` parameter will be set to 500 meters."
   ]
  },
  {
   "cell_type": "code",
   "execution_count": null,
   "id": "0e3b6b30",
   "metadata": {},
   "outputs": [],
   "source": [
    "kernel_radius = 500"
   ]
  },
  {
   "cell_type": "code",
   "execution_count": null,
   "id": "43879fba",
   "metadata": {},
   "outputs": [],
   "source": [
    "kernel_pixel_radius = int(kernel_radius // res)\n",
    "kernel_pixel_len = 2 * kernel_pixel_radius + 1\n",
    "\n",
    "y, x = np.ogrid[\n",
    "    -kernel_pixel_radius : kernel_pixel_len - kernel_pixel_radius,\n",
    "    -kernel_pixel_radius : kernel_pixel_len - kernel_pixel_radius,\n",
    "]\n",
    "mask = x * x + y * y <= kernel_pixel_radius * kernel_pixel_radius\n",
    "\n",
    "kernel = np.zeros((kernel_pixel_len, kernel_pixel_len), dtype=np.uint32)\n",
    "kernel[mask] = 1"
   ]
  },
  {
   "cell_type": "markdown",
   "id": "42db576a",
   "metadata": {},
   "source": [
    "The kernel will be an array of ones (the circle) and zeros which looks as follows:"
   ]
  },
  {
   "cell_type": "code",
   "execution_count": null,
   "id": "134f4b12",
   "metadata": {},
   "outputs": [],
   "source": [
    "plt.imshow(kernel)\n",
    "plt.colorbar()"
   ]
  },
  {
   "cell_type": "markdown",
   "id": "5f916ff3",
   "metadata": {},
   "source": [
    "The convolution is computed by means of the [convolve](https://docs.scipy.org/doc/scipy-0.16.0/reference/ndimage.html) function of SciPy."
   ]
  },
  {
   "cell_type": "code",
   "execution_count": null,
   "id": "59b57919",
   "metadata": {},
   "outputs": [],
   "source": [
    "conv_result = ndi.convolve(urban_lulc_arr, kernel)"
   ]
  },
  {
   "cell_type": "markdown",
   "id": "b0c03049",
   "metadata": {},
   "source": [
    "Since both `urban_lulc_arr` and `kernel` are arrays of ones and zeros, the result corresponds to the number of built-up pixels that lie within a 500m distance."
   ]
  },
  {
   "cell_type": "code",
   "execution_count": null,
   "id": "5e29ceeb",
   "metadata": {},
   "outputs": [],
   "source": [
    "plt.imshow(conv_result)\n",
    "plt.colorbar()"
   ]
  },
  {
   "cell_type": "markdown",
   "id": "6025cafc",
   "metadata": {},
   "source": [
    "### Filtering the convolution results\n",
    "\n",
    "The result of the convolution is then used to classify pixels that are part of the urban extent. To this end, the `urban_threshold` parameter sets the proportion of surrounding built-up pixels after which a pixel is to be considered part of the urban extent. In this example, it will be set to 0.25 (i.e., 25%)."
   ]
  },
  {
   "cell_type": "code",
   "execution_count": null,
   "id": "cd411750",
   "metadata": {},
   "outputs": [],
   "source": [
    "urban_threshold = 0.25"
   ]
  },
  {
   "cell_type": "code",
   "execution_count": null,
   "id": "d77a3cb9",
   "metadata": {},
   "outputs": [],
   "source": [
    "urban_mask = conv_result >= urban_threshold * np.sum(kernel)"
   ]
  },
  {
   "cell_type": "markdown",
   "id": "1a2fbde5",
   "metadata": {},
   "source": [
    "The result looks as follows:"
   ]
  },
  {
   "cell_type": "code",
   "execution_count": null,
   "id": "6dbc6ff2",
   "metadata": {},
   "outputs": [],
   "source": [
    "plt.imshow(urban_mask)"
   ]
  },
  {
   "cell_type": "markdown",
   "id": "dfce9647",
   "metadata": {},
   "source": [
    "### Optional: extract only the largest urban clusters\n",
    "\n",
    "The fact that raster images are rectangular and real-world cities are not often entails that the raster includes more than just one urban settlement. In such case, the user might be interested in the extent that corresponds to the main urban settlement, namely, the largest urban patch of the raster. The largest urban cluster of the resulting `urban_mask` can be obtained by means of the [label](https://docs.scipy.org/doc/scipy-0.16.0/reference/generated/scipy.ndimage.measurements.label.html#scipy.ndimage.measurements.label) function of SciPy, which performs a connected-component labeling of the input array (i.e., `urban_mask`)."
   ]
  },
  {
   "cell_type": "code",
   "execution_count": null,
   "id": "541119f5",
   "metadata": {},
   "outputs": [],
   "source": [
    "num_patches = 2\n",
    "\n",
    "kernel_moore = ndi.generate_binary_structure(2, 2)\n",
    "label_arr = ndi.label(urban_mask, kernel_moore)[0]\n",
    "# get the (pixel) counts of each urban patch label\n",
    "labels, counts = np.unique(label_arr, return_counts=True)\n",
    "# sort the urban patch label by (pixel) counts and delete the 0 (which in\n",
    "# `label_arr` always corresponds to the nodata values given the way `ndi.label`\n",
    "# works\n",
    "sorted_labels = labels[np.argsort(-counts)]\n",
    "sorted_labels = sorted_labels[sorted_labels > 0]\n",
    "# now let `urban_mask` include only the n-largest urban patches where n is\n",
    "# `num_patches`\n",
    "urban_mask = np.isin(label_arr, sorted_labels[:num_patches])"
   ]
  },
  {
   "cell_type": "code",
   "execution_count": null,
   "id": "24360ae5",
   "metadata": {},
   "outputs": [],
   "source": [
    "plt.imshow(urban_mask)"
   ]
  },
  {
   "cell_type": "markdown",
   "id": "d9429f4b",
   "metadata": {},
   "source": [
    "### Optional: adding a buffer around the mask\n",
    "\n",
    "In some contexts, e.g., the study of the urban-rural gradient in landscape ecology, it might be of interest to add a buffer around the urban extent. In this example, a buffer of 1000 meters will be added to the extracted urban extent."
   ]
  },
  {
   "cell_type": "code",
   "execution_count": null,
   "id": "f74eb026",
   "metadata": {},
   "outputs": [],
   "source": [
    "buffer_dist = 1000"
   ]
  },
  {
   "cell_type": "markdown",
   "id": "1ef5add6",
   "metadata": {},
   "source": [
    "To this end, the [binary_dilation](https://docs.scipy.org/doc/scipy-0.16.0/reference/generated/scipy.ndimage.morphology.binary_dilation.html#scipy.ndimage.morphology.binary_dilation) function of Scipy can be used as follows:"
   ]
  },
  {
   "cell_type": "code",
   "execution_count": null,
   "id": "a0620f45",
   "metadata": {},
   "outputs": [],
   "source": [
    "iterations = int(buffer_dist // res)\n",
    "kernel_moore = ndi.generate_binary_structure(2, 2)\n",
    "urban_mask = ndi.binary_dilation(urban_mask, kernel_moore, iterations=iterations)"
   ]
  },
  {
   "cell_type": "code",
   "execution_count": null,
   "id": "3f28345a",
   "metadata": {},
   "outputs": [],
   "source": [
    "plt.imshow(urban_mask)"
   ]
  },
  {
   "cell_type": "markdown",
   "id": "23851b84",
   "metadata": {},
   "source": [
    "## The urban footprinter API\n",
    "\n",
    "The urban footprinter package provides two ways to execute the procedure described above. On the one hand, an *object-oriented* interface which is well suited for the interactive exploration with different parameter values. On the other hand, the whole procedure is also encapsulated into a single function.\n",
    "\n",
    "### Object-oriented approach\n",
    "\n",
    "The `UrbanFootprinter` class can instantiated as follows:"
   ]
  },
  {
   "cell_type": "code",
   "execution_count": null,
   "id": "03ed5277",
   "metadata": {},
   "outputs": [],
   "source": [
    "help(ufp.UrbanFootprinter.__init__)"
   ]
  },
  {
   "cell_type": "code",
   "execution_count": null,
   "id": "0b298a03",
   "metadata": {},
   "outputs": [],
   "source": [
    "urban_classes = list(range(8))\n",
    "\n",
    "uf = ufp.UrbanFootprinter(raster_filepath, urban_classes=urban_classes)"
   ]
  },
  {
   "cell_type": "markdown",
   "id": "13e6b195",
   "metadata": {},
   "source": [
    "Then, given the `compute_footprint_mask` will compute the urban extent mask according to the provided `kernel_radius`, `urban_threshold`, and optionally `num_patches` and `buffer_dist` arguments:"
   ]
  },
  {
   "cell_type": "code",
   "execution_count": null,
   "id": "6348dfc7",
   "metadata": {},
   "outputs": [],
   "source": [
    "kernel_radius = 500\n",
    "urban_threshold = 0.25\n",
    "\n",
    "urban_mask = uf.compute_footprint_mask(kernel_radius, urban_threshold)\n",
    "plt.imshow(urban_mask)"
   ]
  },
  {
   "cell_type": "markdown",
   "id": "d34f8ce9",
   "metadata": {},
   "source": [
    "Note that the execution of `compute_footprint_mask` takes some time, since it is when the convolution (the most expensive task of the workflow) is executed. The main advantage of using the `UrbanFootprinter` class, is that the convolution results are cached, so that further calls avoid performing it if it is not necessary. For instance, imagine that we wanted to set `urban_threshold` to 10%. The call to `compute_footprint_mask` below will compute the urban mask accordingly *without having to perform the convolution again*:"
   ]
  },
  {
   "cell_type": "code",
   "execution_count": null,
   "id": "4460549b",
   "metadata": {},
   "outputs": [],
   "source": [
    "urban_threshold = 0.10\n",
    "\n",
    "urban_mask = uf.compute_footprint_mask(kernel_radius, urban_threshold)\n",
    "plt.imshow(urban_mask)"
   ]
  },
  {
   "cell_type": "markdown",
   "id": "4b6f8db3",
   "metadata": {},
   "source": [
    "The same applies if we wanted to add a buffer around the mask:"
   ]
  },
  {
   "cell_type": "code",
   "execution_count": null,
   "id": "cf4af072",
   "metadata": {},
   "outputs": [],
   "source": [
    "urban_mask = uf.compute_footprint_mask(kernel_radius, urban_threshold, buffer_dist=1000)\n",
    "plt.imshow(urban_mask)"
   ]
  },
  {
   "cell_type": "markdown",
   "id": "85027a76",
   "metadata": {},
   "source": [
    "Nevertheless, note that if we wanted to change the radius of the convolution kernel, a new (different) convolution operation would have to be performed.\n",
    "\n",
    "Finally, the urban extent can also be obtained as a vector geometry (instead of a raster array) by means of the `compute_footprint_mask_shp` method:"
   ]
  },
  {
   "cell_type": "code",
   "execution_count": null,
   "id": "301457d4",
   "metadata": {},
   "outputs": [],
   "source": [
    "urban_mask = uf.compute_footprint_mask_shp(kernel_radius, urban_threshold)\n",
    "urban_mask"
   ]
  },
  {
   "cell_type": "markdown",
   "id": "264f502e",
   "metadata": {},
   "source": [
    "### Single function approach\n",
    "\n",
    "If interactive exploration of the parameters is not required, the whole procedure described above can be executed with the single function named `urban_footprint_mask`, which accepts the following arguments:"
   ]
  },
  {
   "cell_type": "code",
   "execution_count": null,
   "id": "24532218",
   "metadata": {},
   "outputs": [],
   "source": [
    "help(ufp.urban_footprint_mask)"
   ]
  },
  {
   "cell_type": "markdown",
   "id": "088b08dc",
   "metadata": {},
   "source": [
    "Therefore, the urban extent extracted above can be obtained as in:"
   ]
  },
  {
   "cell_type": "code",
   "execution_count": null,
   "id": "a9366fc2",
   "metadata": {},
   "outputs": [],
   "source": [
    "urban_mask = ufp.urban_footprint_mask(\n",
    "    raster_filepath, kernel_radius, urban_threshold, urban_classes=urban_classes\n",
    ")\n",
    "plt.imshow(urban_mask)"
   ]
  },
  {
   "cell_type": "markdown",
   "id": "d2450258",
   "metadata": {},
   "source": [
    "Like in the object-oriented approach, the urban extent can also be obtained as a vector geometry (instead of a raster array) by means of the `urban_footprint_mask_shp` function:"
   ]
  },
  {
   "cell_type": "code",
   "execution_count": null,
   "id": "ef81d105",
   "metadata": {},
   "outputs": [],
   "source": [
    "urban_mask = ufp.urban_footprint_mask_shp(\n",
    "    raster_filepath, kernel_radius, urban_threshold, urban_classes=urban_classes\n",
    ")\n",
    "urban_mask"
   ]
  },
  {
   "cell_type": "markdown",
   "id": "0f257ce2",
   "metadata": {
    "lines_to_next_cell": 2
   },
   "source": [
    "## References\n",
    "\n",
    "1. Oliveira, E. A., Andrade Jr, J. S., & Makse, H. A. (2014). Large cities are less green. Scientific reports, 4, 4235.\n",
    "2. Rozenfeld, H. D., Rybski, D., Andrade, J. S., Batty, M., Stanley, H. E., & Makse, H. A. (2008). Laws of population growth. Proceedings of the National Academy of Sciences, 105(48), 18702-18707.\n",
    "3. Angel, S., Blei, A. M., Civco, D. L., & Parent, J. (2016). Atlas of urban expansion - The 2016 edition, Volume 1: Areas and Densities. New York: New York University, Nairobi: UN-Habitat, and Cambridge, MA: Lincoln Institute of Land Policy."
   ]
  }
 ],
 "metadata": {
  "kernelspec": {
   "display_name": "Python (urban-footprinter)",
   "language": "python",
   "name": "urban-footprinter"
  }
 },
 "nbformat": 4,
 "nbformat_minor": 5
}
